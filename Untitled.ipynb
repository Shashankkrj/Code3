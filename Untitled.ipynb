{
 "cells": [
  {
   "cell_type": "code",
   "execution_count": 1,
   "id": "f44a30a6",
   "metadata": {},
   "outputs": [],
   "source": [
    "# Building desktop application using PyQt5 framework"
   ]
  },
  {
   "cell_type": "code",
   "execution_count": 3,
   "id": "3f877638",
   "metadata": {},
   "outputs": [],
   "source": [
    "# Libraries used for interface development :- PyQt5, Kivy, Tkinter, PySide, wxPython"
   ]
  },
  {
   "cell_type": "markdown",
   "id": "704f0247",
   "metadata": {},
   "source": [
    "PyQt is a library created by Riverbank based on the Qt framework to let you build desktop applications in python. Qt framework itself written in C++, and the framework is also available in other programming languages, such as java and C++. By using it from Python,you can build applications much more quickly while not sacrificing much of the speed of C++. Many large companies like Adobe, Mercedes, TechSmith,Autodesk, all use Qt/PyQt to build their in house tools."
   ]
  },
  {
   "cell_type": "code",
   "execution_count": 7,
   "id": "bd8eda9d",
   "metadata": {},
   "outputs": [],
   "source": [
    "# Advantages:-\n",
    "#     1. PyQt5 (Qt) has an UI design editor (https://doc.qt.io/qt-5/qtdesigner-manual.html). UI file can be shared across different languages.\n",
    "#     2. Has much larger libraries (500 classes) and UI components.\n",
    "#     3. Many learning resource available.\n",
    "#     4. Very fun to use once you get used to it."
   ]
  },
  {
   "cell_type": "code",
   "execution_count": 8,
   "id": "b5c451d3",
   "metadata": {},
   "outputs": [
    {
     "name": "stdout",
     "output_type": "stream",
     "text": [
      "Requirement already satisfied: PyQt5 in c:\\anaconda\\lib\\site-packages (5.15.9)\n",
      "Requirement already satisfied: PyQt5-sip<13,>=12.11 in c:\\anaconda\\lib\\site-packages (from PyQt5) (12.12.1)\n",
      "Requirement already satisfied: PyQt5-Qt5>=5.15.2 in c:\\anaconda\\lib\\site-packages (from PyQt5) (5.15.2)\n"
     ]
    }
   ],
   "source": [
    "!pip install PyQt5"
   ]
  },
  {
   "cell_type": "code",
   "execution_count": 1,
   "id": "c303c3f1",
   "metadata": {},
   "outputs": [
    {
     "name": "stdout",
     "output_type": "stream",
     "text": [
      "Closing Window.....\n"
     ]
    }
   ],
   "source": [
    "import sys\n",
    "from PyQt5.QtWidgets import QApplication, QWidget, QVBoxLayout, QLabel\n",
    "\n",
    "class MyApp(QWidget):  # QWidget is the parent class in the MyApp class\n",
    "    def __init__(self):\n",
    "        super().__init__()  # This allows to inherit the attributes in method from QWidget class\n",
    "        self.resize(1200, 800)\n",
    "        \n",
    "        label = QLabel(\"Hello World\")\n",
    "        layout = QVBoxLayout()  # Define layout object of class \n",
    "        self.setLayout(layout)\n",
    "        \n",
    "        layout.addWidget(label)\n",
    "#         layout.addLayout()\n",
    "\n",
    "if __name__ == '__main__':\n",
    "    app = QApplication(sys.argv) # This is app instance which helps application to run in background.\n",
    "    app.setStyleSheet('''\n",
    "        QWidget{\n",
    "            font-size: 35px;\n",
    "        }''')  # It is basically used to increase font size of all child items on the QWidget\n",
    "    \n",
    "    myApp = MyApp()  # Create instance of MyApp class\n",
    "    myApp.show()\n",
    "    \n",
    "    try:\n",
    "        sys.exit(app.exec_())\n",
    "    except SystemExit:\n",
    "        print('Closing Window.....')"
   ]
  },
  {
   "cell_type": "markdown",
   "id": "a157cf31",
   "metadata": {},
   "source": [
    "Qt Designer is an app design editor to create Ui for Qt applications. The file created using QtDesigner has .ui extension."
   ]
  },
  {
   "cell_type": "code",
   "execution_count": 2,
   "id": "e42ea93e",
   "metadata": {},
   "outputs": [
    {
     "name": "stdout",
     "output_type": "stream",
     "text": [
      "Hello World\n",
      "Kaise ho duniya walo\n",
      "Closing Window.....\n"
     ]
    }
   ],
   "source": [
    "import sys\n",
    "from PyQt5.QtWidgets import QApplication, QWidget, QVBoxLayout, QLabel\n",
    "from PyQt5 import uic\n",
    "\n",
    "class AppDemo(QWidget):  # QWidget is the parent class in the MyApp class\n",
    "    def __init__(self):\n",
    "        super().__init__()  # This allows to inherit the attributes in method from QWidget class\n",
    "        uic.loadUi('app.ui',self)\n",
    "        \n",
    "        self.button.clicked.connect(self.printValue)\n",
    "        \n",
    "    def printValue(self):\n",
    "        print(self.lineEdit_Entry.text())\n",
    "if __name__ == '__main__':\n",
    "    app = QApplication(sys.argv) # This is app instance which helps application to run in background.\n",
    "    \n",
    "    demo = AppDemo()  # Create instance of MyApp class\n",
    "    demo.show()\n",
    "    \n",
    "    try:\n",
    "        sys.exit(app.exec_())\n",
    "    except SystemExit:\n",
    "        print('Closing Window.....')"
   ]
  },
  {
   "cell_type": "code",
   "execution_count": 1,
   "id": "c16b5885",
   "metadata": {},
   "outputs": [
    {
     "name": "stderr",
     "output_type": "stream",
     "text": [
      "C:\\Anaconda\\lib\\site-packages\\numpy\\_distributor_init.py:30: UserWarning: loaded more than 1 DLL from .libs:\n",
      "C:\\Anaconda\\lib\\site-packages\\numpy\\.libs\\libopenblas.FB5AE2TYXYH2IJRDKGDGQ3XBKLKTF43H.gfortran-win_amd64.dll\n",
      "C:\\Anaconda\\lib\\site-packages\\numpy\\.libs\\libopenblas.WCDJNK7YVMPZQ2ME2ZZHJJRJ3JIKNDB7.gfortran-win_amd64.dll\n",
      "  warnings.warn(\"loaded more than 1 DLL from .libs:\"\n"
     ]
    },
    {
     "name": "stdout",
     "output_type": "stream",
     "text": [
      "      a    b  c\n",
      "0  Mary  100  a\n",
      "1   Jim  200  b\n",
      "2  John  300  c\n"
     ]
    },
    {
     "ename": "TypeError",
     "evalue": "rowCount() takes 1 positional argument but 2 were given",
     "output_type": "error",
     "traceback": [
      "\u001b[1;31m---------------------------------------------------------------------------\u001b[0m",
      "\u001b[1;31mTypeError\u001b[0m                                 Traceback (most recent call last)",
      "\u001b[1;31mTypeError\u001b[0m: rowCount() takes 1 positional argument but 2 were given"
     ]
    },
    {
     "ename": "TypeError",
     "evalue": "rowCount() takes 1 positional argument but 2 were given",
     "output_type": "error",
     "traceback": [
      "\u001b[1;31m---------------------------------------------------------------------------\u001b[0m",
      "\u001b[1;31mTypeError\u001b[0m                                 Traceback (most recent call last)",
      "\u001b[1;31mTypeError\u001b[0m: rowCount() takes 1 positional argument but 2 were given"
     ]
    },
    {
     "ename": "TypeError",
     "evalue": "rowCount() takes 1 positional argument but 2 were given",
     "output_type": "error",
     "traceback": [
      "\u001b[1;31m---------------------------------------------------------------------------\u001b[0m",
      "\u001b[1;31mTypeError\u001b[0m                                 Traceback (most recent call last)",
      "\u001b[1;31mTypeError\u001b[0m: rowCount() takes 1 positional argument but 2 were given"
     ]
    },
    {
     "ename": "TypeError",
     "evalue": "rowCount() takes 1 positional argument but 2 were given",
     "output_type": "error",
     "traceback": [
      "\u001b[1;31m---------------------------------------------------------------------------\u001b[0m",
      "\u001b[1;31mTypeError\u001b[0m                                 Traceback (most recent call last)",
      "\u001b[1;31mTypeError\u001b[0m: rowCount() takes 1 positional argument but 2 were given"
     ]
    },
    {
     "ename": "TypeError",
     "evalue": "rowCount() takes 1 positional argument but 2 were given",
     "output_type": "error",
     "traceback": [
      "\u001b[1;31m---------------------------------------------------------------------------\u001b[0m",
      "\u001b[1;31mTypeError\u001b[0m                                 Traceback (most recent call last)",
      "\u001b[1;31mTypeError\u001b[0m: rowCount() takes 1 positional argument but 2 were given"
     ]
    },
    {
     "ename": "TypeError",
     "evalue": "rowCount() takes 1 positional argument but 2 were given",
     "output_type": "error",
     "traceback": [
      "\u001b[1;31m---------------------------------------------------------------------------\u001b[0m",
      "\u001b[1;31mTypeError\u001b[0m                                 Traceback (most recent call last)",
      "\u001b[1;31mTypeError\u001b[0m: rowCount() takes 1 positional argument but 2 were given"
     ]
    },
    {
     "ename": "TypeError",
     "evalue": "rowCount() takes 1 positional argument but 2 were given",
     "output_type": "error",
     "traceback": [
      "\u001b[1;31m---------------------------------------------------------------------------\u001b[0m",
      "\u001b[1;31mTypeError\u001b[0m                                 Traceback (most recent call last)",
      "\u001b[1;31mTypeError\u001b[0m: rowCount() takes 1 positional argument but 2 were given"
     ]
    },
    {
     "ename": "TypeError",
     "evalue": "rowCount() takes 1 positional argument but 2 were given",
     "output_type": "error",
     "traceback": [
      "\u001b[1;31m---------------------------------------------------------------------------\u001b[0m",
      "\u001b[1;31mTypeError\u001b[0m                                 Traceback (most recent call last)",
      "\u001b[1;31mTypeError\u001b[0m: rowCount() takes 1 positional argument but 2 were given"
     ]
    },
    {
     "ename": "TypeError",
     "evalue": "rowCount() takes 1 positional argument but 2 were given",
     "output_type": "error",
     "traceback": [
      "\u001b[1;31m---------------------------------------------------------------------------\u001b[0m",
      "\u001b[1;31mTypeError\u001b[0m                                 Traceback (most recent call last)",
      "\u001b[1;31mTypeError\u001b[0m: rowCount() takes 1 positional argument but 2 were given"
     ]
    },
    {
     "ename": "TypeError",
     "evalue": "rowCount() takes 1 positional argument but 2 were given",
     "output_type": "error",
     "traceback": [
      "\u001b[1;31m---------------------------------------------------------------------------\u001b[0m",
      "\u001b[1;31mTypeError\u001b[0m                                 Traceback (most recent call last)",
      "\u001b[1;31mTypeError\u001b[0m: rowCount() takes 1 positional argument but 2 were given"
     ]
    },
    {
     "ename": "TypeError",
     "evalue": "rowCount() takes 1 positional argument but 2 were given",
     "output_type": "error",
     "traceback": [
      "\u001b[1;31m---------------------------------------------------------------------------\u001b[0m",
      "\u001b[1;31mTypeError\u001b[0m                                 Traceback (most recent call last)",
      "\u001b[1;31mTypeError\u001b[0m: rowCount() takes 1 positional argument but 2 were given"
     ]
    },
    {
     "ename": "TypeError",
     "evalue": "rowCount() takes 1 positional argument but 2 were given",
     "output_type": "error",
     "traceback": [
      "\u001b[1;31m---------------------------------------------------------------------------\u001b[0m",
      "\u001b[1;31mTypeError\u001b[0m                                 Traceback (most recent call last)",
      "\u001b[1;31mTypeError\u001b[0m: rowCount() takes 1 positional argument but 2 were given"
     ]
    },
    {
     "ename": "TypeError",
     "evalue": "rowCount() takes 1 positional argument but 2 were given",
     "output_type": "error",
     "traceback": [
      "\u001b[1;31m---------------------------------------------------------------------------\u001b[0m",
      "\u001b[1;31mTypeError\u001b[0m                                 Traceback (most recent call last)",
      "\u001b[1;31mTypeError\u001b[0m: rowCount() takes 1 positional argument but 2 were given"
     ]
    },
    {
     "ename": "TypeError",
     "evalue": "rowCount() takes 1 positional argument but 2 were given",
     "output_type": "error",
     "traceback": [
      "\u001b[1;31m---------------------------------------------------------------------------\u001b[0m",
      "\u001b[1;31mTypeError\u001b[0m                                 Traceback (most recent call last)",
      "\u001b[1;31mTypeError\u001b[0m: rowCount() takes 1 positional argument but 2 were given"
     ]
    },
    {
     "ename": "TypeError",
     "evalue": "rowCount() takes 1 positional argument but 2 were given",
     "output_type": "error",
     "traceback": [
      "\u001b[1;31m---------------------------------------------------------------------------\u001b[0m",
      "\u001b[1;31mTypeError\u001b[0m                                 Traceback (most recent call last)",
      "\u001b[1;31mTypeError\u001b[0m: rowCount() takes 1 positional argument but 2 were given"
     ]
    },
    {
     "ename": "TypeError",
     "evalue": "rowCount() takes 1 positional argument but 2 were given",
     "output_type": "error",
     "traceback": [
      "\u001b[1;31m---------------------------------------------------------------------------\u001b[0m",
      "\u001b[1;31mTypeError\u001b[0m                                 Traceback (most recent call last)",
      "\u001b[1;31mTypeError\u001b[0m: rowCount() takes 1 positional argument but 2 were given"
     ]
    },
    {
     "ename": "SystemExit",
     "evalue": "0",
     "output_type": "error",
     "traceback": [
      "An exception has occurred, use %tb to see the full traceback.\n",
      "\u001b[1;31mSystemExit\u001b[0m\u001b[1;31m:\u001b[0m 0\n"
     ]
    },
    {
     "name": "stderr",
     "output_type": "stream",
     "text": [
      "C:\\Anaconda\\lib\\site-packages\\IPython\\core\\interactiveshell.py:3513: UserWarning: To exit: use 'exit', 'quit', or Ctrl-D.\n",
      "  warn(\"To exit: use 'exit', 'quit', or Ctrl-D.\", stacklevel=1)\n"
     ]
    }
   ],
   "source": [
    "import sys\n",
    "import pandas as pd\n",
    "from PyQt5.QtWidgets import QApplication, QTableView\n",
    "from PyQt5.QtCore import QAbstractTableModel, Qt\n",
    "\n",
    "df = pd.DataFrame({'a': ['Mary','Jim','John'],\n",
    "                   'b': [100,200,300],\n",
    "                   'c': ['a','b','c']})\n",
    "\n",
    "print(df)\n",
    "\n",
    "class pandasModel(QAbstractTableModel):\n",
    "    def __init__(self, data):\n",
    "        QAbstractTableModel.__init__(self)\n",
    "        self._data = data\n",
    "        \n",
    "    def rowCount(self, parent = None):\n",
    "        return self._data.shape[0]\n",
    "    \n",
    "    def columnCount(self, parent = None):\n",
    "        return self._data.shape[1]\n",
    "    \n",
    "    def data(self, index, role = Qt.DisplayRole):\n",
    "        if index.isValid():\n",
    "            if role == Qt.DisplayRole:\n",
    "                return str(self._data.iloc[index.row(), index.column()])\n",
    "        return None\n",
    "    \n",
    "    def headerData(self, col, orientation, role):\n",
    "        if orientation == Qt.Horizontal and role == Qt.DisplayRole:\n",
    "            return self._data.columns[col]\n",
    "        return None\n",
    "    \n",
    "if __name__ == '__main__':\n",
    "    app = QApplication(sys.argv)\n",
    "    model = pandasModel(df)\n",
    "    view = QTableView()\n",
    "    view.setModel(model)\n",
    "    view.resize(800,600)\n",
    "    view.show()\n",
    "    sys.exit(app.exec_())"
   ]
  },
  {
   "cell_type": "code",
   "execution_count": 2,
   "id": "fcb58bd6",
   "metadata": {},
   "outputs": [
    {
     "ename": "SystemExit",
     "evalue": "0",
     "output_type": "error",
     "traceback": [
      "An exception has occurred, use %tb to see the full traceback.\n",
      "\u001b[1;31mSystemExit\u001b[0m\u001b[1;31m:\u001b[0m 0\n"
     ]
    }
   ],
   "source": [
    "import sys\n",
    "from PyQt5.QtWidgets import QApplication, QMainWindow\n",
    "\n",
    "if __name__ == '__main__':\n",
    "    app = QApplication(sys.argv)\n",
    "    window = QMainWindow()\n",
    "    window.setWindowTitle('My First PyQt5 Application')\n",
    "    window.setGeometry(100, 100, 400, 300)  # (x, y, width, height)\n",
    "    window.show()\n",
    "    sys.exit(app.exec_())"
   ]
  },
  {
   "cell_type": "code",
   "execution_count": null,
   "id": "8e25323c",
   "metadata": {},
   "outputs": [],
   "source": []
  }
 ],
 "metadata": {
  "kernelspec": {
   "display_name": "Python 3 (ipykernel)",
   "language": "python",
   "name": "python3"
  },
  "language_info": {
   "codemirror_mode": {
    "name": "ipython",
    "version": 3
   },
   "file_extension": ".py",
   "mimetype": "text/x-python",
   "name": "python",
   "nbconvert_exporter": "python",
   "pygments_lexer": "ipython3",
   "version": "3.8.13"
  }
 },
 "nbformat": 4,
 "nbformat_minor": 5
}
